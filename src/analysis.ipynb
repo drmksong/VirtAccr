{
 "cells": [
  {
   "cell_type": "code",
   "execution_count": 1,
   "metadata": {},
   "outputs": [],
   "source": [
    "%matplotlib inline\n",
    "import numpy as np\n",
    "import pandas as pd\n",
    "import matplotlib.pyplot as plt\n",
    "import math\n",
    "from scipy import integrate, interpolate"
   ]
  },
  {
   "cell_type": "code",
   "execution_count": 3,
   "metadata": {},
   "outputs": [],
   "source": [
    "motion = pd.read_csv('../data/motion.csv')\n",
    "ladar = pd.read_csv('../data/ladar.csv')\n",
    "length = pd.read_csv('../data/length.csv')"
   ]
  },
  {
   "cell_type": "code",
   "execution_count": 4,
   "metadata": {},
   "outputs": [
    {
     "name": "stdout",
     "output_type": "stream",
     "text": [
      "   2024-03-22 11:15:25  AX=-0.035594  AY=-0.010107  AZ=1.011606  GX=8.956568  \\\n",
      "0  2024-03-22 11:15:26  AX=-0.035404  AY=-0.009828  AZ=1.011031  GX=8.956738   \n",
      "1  2024-03-22 11:15:27  AX=-0.035948  AY=-0.010601  AZ=1.011528  GX=8.964460   \n",
      "2  2024-03-22 11:15:27  AX=-0.038380  AY=-0.005867  AZ=1.010812  GX=9.008212   \n",
      "3  2024-03-22 11:15:28  AX=-0.030847  AY=-0.015626  AZ=1.011349  GX=8.995170   \n",
      "4  2024-03-22 11:15:29  AX=-0.035598   AY=0.003416  AZ=1.011926  GX=9.069633   \n",
      "\n",
      "   GY=-1.945588  GZ=2.047672  MX=0.270340  MY=0.226827  MZ=-1.031861  \n",
      "0  GY=-1.948848  GZ=2.027941  MX=0.270650  MY=0.226902  MZ=-1.024673  \n",
      "1  GY=-1.961029  GZ=1.713628  MX=0.269601  MY=0.225957  MZ=-1.028984  \n",
      "2  GY=-2.023652  GZ=0.733627  MX=0.269560  MY=0.228348  MZ=-1.027265  \n",
      "3  GY=-1.983848  GZ=2.220613  MX=0.262939  MY=0.230973  MZ=-1.028094  \n",
      "4  GY=-2.121103  GZ=1.714486  MX=0.267136  MY=0.229951  MZ=-1.029634  \n"
     ]
    }
   ],
   "source": [
    "print(motion.head())"
   ]
  },
  {
   "cell_type": "code",
   "execution_count": 5,
   "metadata": {},
   "outputs": [
    {
     "name": "stdout",
     "output_type": "stream",
     "text": [
      "   2024-03-22 11:15:25  1958   1962   1964   1966   1966.1   1970   1972  \\\n",
      "0  2024-03-22 11:15:26  1958   1960   1963   1966     1968   1967   1971   \n",
      "1  2024-03-22 11:15:27  1958   1960   1963   1966     1968   1967   1971   \n",
      "2  2024-03-22 11:15:27  1958   1960   1963   1966     1968   1967   1971   \n",
      "3  2024-03-22 11:15:28  1966   1963   1966   1976     1980   1970   1972   \n",
      "4  2024-03-22 11:15:29  1966   1963   1966   1976     1980   1970   1972   \n",
      "\n",
      "    1972.1   1975  ...   1943   1945   1949.2   1949.3   1950   1954.2  \\\n",
      "0     1972   1975  ...   1944   1945     1946     1949   1951     1953   \n",
      "1     1972   1975  ...   1944   1945     1946     1949   1951     1953   \n",
      "2     1972   1975  ...   1944   1945     1946     1949   1951     1953   \n",
      "3     1989   1984  ...   1955   1951     1948     1951   1959     1960   \n",
      "4     1989   1984  ...   1955   1951     1948     1951   1959     1960   \n",
      "\n",
      "    1954.3   1955.1   1955.2     \n",
      "0     1953     1953     1955     \n",
      "1     1953     1953     1955     \n",
      "2     1953     1953     1955     \n",
      "3     1956     1957     1970     \n",
      "4     1956     1957     1970     \n",
      "\n",
      "[5 rows x 1442 columns]\n"
     ]
    }
   ],
   "source": [
    "print(ladar.head())"
   ]
  },
  {
   "cell_type": "code",
   "execution_count": 6,
   "metadata": {},
   "outputs": [
    {
     "name": "stdout",
     "output_type": "stream",
     "text": [
      "   2024-03-22 11:15:25  Front:23279mm   Back:2793mm   Up:694mm   Left:1783mm  \\\n",
      "0  2024-03-22 11:15:26  Front:23276mm   Back:2793mm   Up:694mm   Left:1782mm   \n",
      "1  2024-03-22 11:15:27  Front:23278mm   Back:2795mm   Up:693mm   Left:1782mm   \n",
      "2  2024-03-22 11:15:27  Front:23281mm   Back:2797mm   Up:693mm   Left:1783mm   \n",
      "3  2024-03-22 11:15:28  Front:23281mm   Back:2799mm   Up:693mm   Left:1787mm   \n",
      "4  2024-03-22 11:15:29  Front:23281mm   Back:2802mm   Up:693mm   Left:1790mm   \n",
      "\n",
      "    Right:633mm  \n",
      "0   Right:631mm  \n",
      "1   Right:634mm  \n",
      "2   Right:631mm  \n",
      "3   Right:629mm  \n",
      "4   Right:625mm  \n"
     ]
    }
   ],
   "source": [
    "print(length.head())    "
   ]
  },
  {
   "cell_type": "code",
   "execution_count": 9,
   "metadata": {},
   "outputs": [
    {
     "name": "stdout",
     "output_type": "stream",
     "text": [
      "                  time          front          back         up          left  \\\n",
      "0  2024-03-22 11:15:26  Front:23276mm   Back:2793mm   Up:694mm   Left:1782mm   \n",
      "1  2024-03-22 11:15:27  Front:23278mm   Back:2795mm   Up:693mm   Left:1782mm   \n",
      "2  2024-03-22 11:15:27  Front:23281mm   Back:2797mm   Up:693mm   Left:1783mm   \n",
      "3  2024-03-22 11:15:28  Front:23281mm   Back:2799mm   Up:693mm   Left:1787mm   \n",
      "4  2024-03-22 11:15:29  Front:23281mm   Back:2802mm   Up:693mm   Left:1790mm   \n",
      "\n",
      "          right  \n",
      "0   Right:631mm  \n",
      "1   Right:634mm  \n",
      "2   Right:631mm  \n",
      "3   Right:629mm  \n",
      "4   Right:625mm  \n"
     ]
    }
   ],
   "source": [
    "length.columns = ['time', 'front', 'back','up','left','right']\n",
    "length['front'] = \n",
    "print(length.head())\n"
   ]
  },
  {
   "cell_type": "markdown",
   "metadata": {},
   "source": []
  }
 ],
 "metadata": {
  "kernelspec": {
   "display_name": "Python 3",
   "language": "python",
   "name": "python3"
  },
  "language_info": {
   "codemirror_mode": {
    "name": "ipython",
    "version": 3
   },
   "file_extension": ".py",
   "mimetype": "text/x-python",
   "name": "python",
   "nbconvert_exporter": "python",
   "pygments_lexer": "ipython3",
   "version": "3.10.6"
  }
 },
 "nbformat": 4,
 "nbformat_minor": 2
}
